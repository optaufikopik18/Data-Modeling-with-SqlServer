{
 "metadata": {
  "language_info": {
   "codemirror_mode": {
    "name": "ipython",
    "version": 3
   },
   "file_extension": ".py",
   "mimetype": "text/x-python",
   "name": "python",
   "nbconvert_exporter": "python",
   "pygments_lexer": "ipython3",
   "version": "3.8.5-final"
  },
  "orig_nbformat": 2,
  "kernelspec": {
   "name": "python3",
   "display_name": "Python 3.8.5 64-bit",
   "metadata": {
    "interpreter": {
     "hash": "916dbcbb3f70747c44a77c7bcd40155683ae19c65e1c03b4aa3499c5328201f1"
    }
   }
  }
 },
 "nbformat": 4,
 "nbformat_minor": 2,
 "cells": [
  {
   "cell_type": "code",
   "execution_count": 2,
   "metadata": {},
   "outputs": [],
   "source": [
    "import pandas as pd"
   ]
  },
  {
   "cell_type": "code",
   "execution_count": 7,
   "metadata": {},
   "outputs": [
    {
     "output_type": "display_data",
     "data": {
      "text/plain": "   num_songs           artist_id  artist_latitude  artist_longitude  \\\n0          1  ARD7TVE1187B99BFB1              NaN               NaN   \n\n   artist_location artist_name             song_id             title  \\\n0  California - LA      Casual  SOMZWCG12A8C13C480  I Didn't Mean To   \n\n    duration  year  \n0  218.93179     0  ",
      "text/html": "<div>\n<style scoped>\n    .dataframe tbody tr th:only-of-type {\n        vertical-align: middle;\n    }\n\n    .dataframe tbody tr th {\n        vertical-align: top;\n    }\n\n    .dataframe thead th {\n        text-align: right;\n    }\n</style>\n<table border=\"1\" class=\"dataframe\">\n  <thead>\n    <tr style=\"text-align: right;\">\n      <th></th>\n      <th>num_songs</th>\n      <th>artist_id</th>\n      <th>artist_latitude</th>\n      <th>artist_longitude</th>\n      <th>artist_location</th>\n      <th>artist_name</th>\n      <th>song_id</th>\n      <th>title</th>\n      <th>duration</th>\n      <th>year</th>\n    </tr>\n  </thead>\n  <tbody>\n    <tr>\n      <th>0</th>\n      <td>1</td>\n      <td>ARD7TVE1187B99BFB1</td>\n      <td>NaN</td>\n      <td>NaN</td>\n      <td>California - LA</td>\n      <td>Casual</td>\n      <td>SOMZWCG12A8C13C480</td>\n      <td>I Didn't Mean To</td>\n      <td>218.93179</td>\n      <td>0</td>\n    </tr>\n  </tbody>\n</table>\n</div>"
     },
     "metadata": {}
    },
    {
     "output_type": "display_data",
     "data": {
      "text/plain": "  artist       auth firstName gender  itemInSession lastName  length level  \\\n0   None  Logged In    Walter      M              0     Frye     NaN  free   \n\n                            location method  page   registration  sessionId  \\\n0  San Francisco-Oakland-Hayward, CA    GET  Home  1540919166796         38   \n\n   song  status             ts  \\\n0  None     200  1541105830796   \n\n                                           userAgent  userId  \n0  \"Mozilla/5.0 (Macintosh; Intel Mac OS X 10_9_4...      39  ",
      "text/html": "<div>\n<style scoped>\n    .dataframe tbody tr th:only-of-type {\n        vertical-align: middle;\n    }\n\n    .dataframe tbody tr th {\n        vertical-align: top;\n    }\n\n    .dataframe thead th {\n        text-align: right;\n    }\n</style>\n<table border=\"1\" class=\"dataframe\">\n  <thead>\n    <tr style=\"text-align: right;\">\n      <th></th>\n      <th>artist</th>\n      <th>auth</th>\n      <th>firstName</th>\n      <th>gender</th>\n      <th>itemInSession</th>\n      <th>lastName</th>\n      <th>length</th>\n      <th>level</th>\n      <th>location</th>\n      <th>method</th>\n      <th>page</th>\n      <th>registration</th>\n      <th>sessionId</th>\n      <th>song</th>\n      <th>status</th>\n      <th>ts</th>\n      <th>userAgent</th>\n      <th>userId</th>\n    </tr>\n  </thead>\n  <tbody>\n    <tr>\n      <th>0</th>\n      <td>None</td>\n      <td>Logged In</td>\n      <td>Walter</td>\n      <td>M</td>\n      <td>0</td>\n      <td>Frye</td>\n      <td>NaN</td>\n      <td>free</td>\n      <td>San Francisco-Oakland-Hayward, CA</td>\n      <td>GET</td>\n      <td>Home</td>\n      <td>1540919166796</td>\n      <td>38</td>\n      <td>None</td>\n      <td>200</td>\n      <td>1541105830796</td>\n      <td>\"Mozilla/5.0 (Macintosh; Intel Mac OS X 10_9_4...</td>\n      <td>39</td>\n    </tr>\n  </tbody>\n</table>\n</div>"
     },
     "metadata": {}
    }
   ],
   "source": [
    "df_song = pd.read_json(\"data/song_data/A/A/A/TRAAAAW128F429D538.json\",lines=True)\n",
    "df_log = pd.read_json(\"data/log_data/2018/11/2018-11-01-events.json\",lines=True)\n",
    "\n",
    "display(df_song)\n",
    "display(df_log.head(1))"
   ]
  },
  {
   "cell_type": "code",
   "execution_count": null,
   "metadata": {},
   "outputs": [],
   "source": [
    "songplays_create_table = \"\""
   ]
  }
 ]
}